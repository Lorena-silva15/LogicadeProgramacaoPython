{
  "nbformat": 4,
  "nbformat_minor": 0,
  "metadata": {
    "colab": {
      "provenance": [],
      "authorship_tag": "ABX9TyN/tb8/SIHIIUAT2oYKZDiD",
      "include_colab_link": true
    },
    "kernelspec": {
      "name": "python3",
      "display_name": "Python 3"
    },
    "language_info": {
      "name": "python"
    }
  },
  "cells": [
    {
      "cell_type": "markdown",
      "metadata": {
        "id": "view-in-github",
        "colab_type": "text"
      },
      "source": [
        "<a href=\"https://colab.research.google.com/github/Lorena-silva15/LogicadeProgramacaoPython/blob/main/condicionais/Estrutura_condicional_triangulo.ipynb\" target=\"_parent\"><img src=\"https://colab.research.google.com/assets/colab-badge.svg\" alt=\"Open In Colab\"/></a>"
      ]
    },
    {
      "cell_type": "markdown",
      "source": [
        "\n",
        "#Triangulo\n",
        "---\n",
        "\n"
      ],
      "metadata": {
        "id": "bLNXJWLXScTp"
      }
    },
    {
      "cell_type": "code",
      "execution_count": null,
      "metadata": {
        "colab": {
          "base_uri": "https://localhost:8080/"
        },
        "id": "Mi5v9mWnSZcl",
        "outputId": "c79a8fd8-be60-416f-9868-c38755da21d4"
      },
      "outputs": [
        {
          "output_type": "stream",
          "name": "stdout",
          "text": [
            "Digite o primeiro lado: 2\n",
            "Digite o segundo lado: 2\n",
            "Digite o terceiro lado: 3\n",
            "As medidas para um triangulo sao: True\n",
            "Seu triangulo pode ser equilátero?: False\n",
            "Seu triangulo pode ser isóceles?: True\n",
            "Seu triangulo pode ser escaleno?: False\n"
          ]
        }
      ],
      "source": [
        "#entrada\n",
        "\n",
        "a=float(input(\"Digite o primeiro lado: \"))\n",
        "b=float(input(\"Digite o segundo lado: \"))\n",
        "c=float(input(\"Digite o terceiro lado: \"))\n",
        "\n",
        "#processamento\n",
        "\n",
        "triangulo=(a<b+c)and (b<a+c)and(c<a+b)\n",
        "equilatero=(a==b==c)\n",
        "isoceles=(a==b!=c)or(a==c!=b)or(c==b!=a)\n",
        "escaleno=(a!=b)and(a!=c)and(b!=c)\n",
        "\n",
        "print(\"As medidas para um triangulo sao:\",triangulo)\n",
        "print(\"Seu triangulo pode ser equilátero?:\",equilatero)\n",
        "print(\"Seu triangulo pode ser isóceles?:\",isoceles)\n",
        "print(\"Seu triangulo pode ser escaleno?:\",escaleno)"
      ]
    }
  ]
}