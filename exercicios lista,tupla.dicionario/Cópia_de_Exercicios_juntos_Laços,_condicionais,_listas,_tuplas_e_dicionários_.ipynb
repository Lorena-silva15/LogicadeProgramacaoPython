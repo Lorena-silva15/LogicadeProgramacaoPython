{
  "nbformat": 4,
  "nbformat_minor": 0,
  "metadata": {
    "colab": {
      "provenance": [],
      "include_colab_link": true
    },
    "kernelspec": {
      "name": "python3",
      "display_name": "Python 3"
    },
    "language_info": {
      "name": "python"
    }
  },
  "cells": [
    {
      "cell_type": "markdown",
      "metadata": {
        "id": "view-in-github",
        "colab_type": "text"
      },
      "source": [
        "<a href=\"https://colab.research.google.com/github/Lorena-silva15/LogicadeProgramacaoPython/blob/main/exercicios%20lista%2Ctupla.dicionario/C%C3%B3pia_de_Exercicios_juntos_La%C3%A7os%2C_condicionais%2C_listas%2C_tuplas_e_dicion%C3%A1rios_.ipynb\" target=\"_parent\"><img src=\"https://colab.research.google.com/assets/colab-badge.svg\" alt=\"Open In Colab\"/></a>"
      ]
    },
    {
      "cell_type": "markdown",
      "source": [
        "Lista de Exercícios unindo tudo que foi ensinado até o momento:\n",
        "\n",
        "\n",
        "*   Condicionais\n",
        "*   Laços de Reptição\n",
        "*   Listas\n",
        "*   Tuplas\n",
        "*   Dicionários\n",
        "*   Manipulação de Strings\n",
        "\n",
        "\n",
        "\n",
        "\n",
        "\n"
      ],
      "metadata": {
        "id": "JsFcwNObBRcd"
      }
    },
    {
      "cell_type": "markdown",
      "source": [
        "# Tuplas - Acesso e Desempacotamento\n",
        "\n",
        "1) Crie uma tupla contendo três tipos diferentes de dados: um número, uma string e uma lista. Use um laço de repetição para acessar e imprimir cada item da tupla. Além disso, dentro do laço, acesse e imprima o segundo item da lista que está dentro da tupla."
      ],
      "metadata": {
        "id": "HM91bKpkBqGI"
      }
    },
    {
      "cell_type": "code",
      "source": [
        "dados = (24, \"Cíntia\",[1,2,3])\n",
        "\n",
        "for i in dados:\n",
        "  print(i)"
      ],
      "metadata": {
        "colab": {
          "base_uri": "https://localhost:8080/"
        },
        "id": "sCbCOqPVYeRv",
        "outputId": "48ad603f-c023-4267-95d8-32f20cc5254f"
      },
      "execution_count": 1,
      "outputs": [
        {
          "output_type": "stream",
          "name": "stdout",
          "text": [
            "24\n",
            "Cíntia\n",
            "[1, 2, 3]\n"
          ]
        }
      ]
    },
    {
      "cell_type": "code",
      "source": [
        "\n",
        "  print(dados[1])"
      ],
      "metadata": {
        "colab": {
          "base_uri": "https://localhost:8080/"
        },
        "id": "pZ8TJ7EFYsjg",
        "outputId": "a0752e54-d53b-43b6-e4da-acea96abe285"
      },
      "execution_count": 2,
      "outputs": [
        {
          "output_type": "stream",
          "name": "stdout",
          "text": [
            "Cíntia\n"
          ]
        }
      ]
    },
    {
      "cell_type": "markdown",
      "source": [
        "# Dicionários - Criação e Acesso\n",
        "## Cadastro de Pessoas e Análise de Alturas\n",
        "2) Solicite ao usuário para inserir o nome e a altura de várias pessoas. Preencha um dicionário com essas informações e depois encontre e imprima o nome e a altura da pessoa mais alta e da mais baixa."
      ],
      "metadata": {
        "id": "6vEHxGtjBxMi"
      }
    },
    {
      "cell_type": "code",
      "source": [
        "max=0\n",
        "altura=[]\n",
        "pessoas={}\n",
        "cont1=0\n",
        "cont=cont1\n",
        "while cont!=2:\n",
        "\n",
        "\n",
        "\n",
        "  nome=input(\"Digite seu nome : \")\n",
        "  alt=float(input(\"Digite sua altura: \"))\n",
        "\n",
        "  pessoas[nome]=alt\n",
        "  altura==altura.append(alt)\n",
        "\n",
        "\n",
        "\n",
        "  cont=int(input(\"digite 1 para continuar ou 2 para terminar \"))\n",
        "\n",
        "  cont1==cont\n",
        "\n",
        "pessoas.keys()\n",
        "\n",
        "\n",
        "\n",
        "\n",
        "\n",
        "\n"
      ],
      "metadata": {
        "id": "MpJYauvTZR69",
        "colab": {
          "base_uri": "https://localhost:8080/",
          "height": 384
        },
        "outputId": "d9695874-34f7-4887-ad3d-0f38bf1dab42"
      },
      "execution_count": 28,
      "outputs": [
        {
          "name": "stdout",
          "output_type": "stream",
          "text": [
            "Digite seu nome : ws\n",
            "Digite sua altura: 22\n",
            "digite 1 para continuar ou 2 para terminar 1\n",
            "Digite seu nome : ss\n",
            "Digite sua altura: 22\n",
            "digite 1 para continuar ou 2 para terminar 1\n",
            "Digite seu nome : ss\n",
            "Digite sua altura: 23\n",
            "digite 1 para continuar ou 2 para terminar 2\n"
          ]
        },
        {
          "output_type": "error",
          "ename": "TypeError",
          "evalue": "dict.keys() takes no arguments (1 given)",
          "traceback": [
            "\u001b[0;31m---------------------------------------------------------------------------\u001b[0m",
            "\u001b[0;31mTypeError\u001b[0m                                 Traceback (most recent call last)",
            "\u001b[0;32m<ipython-input-28-42227575f195>\u001b[0m in \u001b[0;36m<cell line: 22>\u001b[0;34m()\u001b[0m\n\u001b[1;32m     20\u001b[0m   \u001b[0mcont1\u001b[0m\u001b[0;34m==\u001b[0m\u001b[0mcont\u001b[0m\u001b[0;34m\u001b[0m\u001b[0;34m\u001b[0m\u001b[0m\n\u001b[1;32m     21\u001b[0m \u001b[0;34m\u001b[0m\u001b[0m\n\u001b[0;32m---> 22\u001b[0;31m \u001b[0mpessoas\u001b[0m\u001b[0;34m.\u001b[0m\u001b[0mkeys\u001b[0m\u001b[0;34m(\u001b[0m\u001b[0;36m22\u001b[0m\u001b[0;34m)\u001b[0m\u001b[0;34m\u001b[0m\u001b[0;34m\u001b[0m\u001b[0m\n\u001b[0m\u001b[1;32m     23\u001b[0m \u001b[0;34m\u001b[0m\u001b[0m\n\u001b[1;32m     24\u001b[0m \u001b[0;34m\u001b[0m\u001b[0m\n",
            "\u001b[0;31mTypeError\u001b[0m: dict.keys() takes no arguments (1 given)"
          ]
        }
      ]
    },
    {
      "cell_type": "markdown",
      "source": [
        "# Lista, laços e Condicionais\n",
        "3) Descrição: Crie uma listacom cinco números inteiros. Use um laço de repetição e uma condicional para imprimir apenas os números que são múltiplos de 3."
      ],
      "metadata": {
        "id": "FytD4QZyELAt"
      }
    },
    {
      "cell_type": "code",
      "source": [
        "num=[1,2,3,4,5]\n",
        "\n",
        "for i in num:\n",
        "  if i ==0 or  i == 3 or i==6 or i == 9 or i ==12:\n",
        "    print(i)\n",
        "\n",
        "\n"
      ],
      "metadata": {
        "id": "9I9p3VW_hIW9"
      },
      "execution_count": null,
      "outputs": []
    },
    {
      "cell_type": "markdown",
      "source": [
        "# Manipulação de Strings e Condicionais\n",
        "4) Descrição: Crie uma string com uma frase. Use uma condicional para verificar se a frase contém a palavra \"Python\". Se sim, substitua a palavra \"Python\" por \"programação\" e imprima a nova frase."
      ],
      "metadata": {
        "id": "hwn3Fz8aEYSH"
      }
    },
    {
      "cell_type": "code",
      "source": [
        "frase=str( \"python é dificil.\")\n",
        "\n",
        "if \"python\" in frase:\n",
        "\n",
        "\n",
        "  frase=frase.replace(\"python\",\"Programação\")\n",
        "\n",
        "  print(frase)\n",
        "\n",
        "else:\n",
        "  frase\n",
        "\n",
        "\n",
        "\n",
        "\n",
        "\n",
        "\n"
      ],
      "metadata": {
        "id": "aAOW_47HaVlK"
      },
      "execution_count": null,
      "outputs": []
    },
    {
      "cell_type": "markdown",
      "source": [
        "# Simulação de Alfândega com Cadastro Dinâmico de Itens usando dicionário\n",
        "5) Simule uma situação de alfândega onde o funcionário cadastra itens novos encontrados na mala de uma pessoa que veio de uma viagem internacional. Após o cadastro de todos os itens, o programa imprime uma nota com todos os itens e seus preços, calcula o valor total e, se o valor total ultrapassar 500 dólares, calcula o valor de 60% a ser pago."
      ],
      "metadata": {
        "id": "hPP-JNTxEwFT"
      }
    },
    {
      "cell_type": "code",
      "source": [
        "total=0\n",
        "produtos={}\n",
        "cont1=0\n",
        "cont=cont1\n",
        "while cont!=2:\n",
        "  prod=input(\"Digite o nome do produto: \")\n",
        "  prec=float(input(\"Digite seu preço: \"))\n",
        "  total+=prec\n",
        "  produtos[prod]=prec\n",
        "  produtos\n",
        "  cont=int(input(\"digite 1 para continuar ou 2 para terminar \"))\n",
        "  cont1==cont\n",
        "if total>500:\n",
        "    print(\"Lista de produtos: \", produtos,\"total:\",total,\"Total a pagar com taxa:\", total+ total/100 *60)\n",
        "else:\n",
        "    print(\"Lista de produtos: \", produtos,\"Total a pagar:\", total)\n",
        "\n",
        "\n",
        "\n",
        "\n",
        "\n",
        "\n",
        "\n",
        "\n"
      ],
      "metadata": {
        "id": "M3uUrp8PkBRy",
        "colab": {
          "base_uri": "https://localhost:8080/"
        },
        "outputId": "1f7ac26f-e587-453e-be8f-4e2db521f2f2"
      },
      "execution_count": 22,
      "outputs": [
        {
          "output_type": "stream",
          "name": "stdout",
          "text": [
            "Digite o nome do produto: ffff\n",
            "Digite seu preço: 2323\n",
            "digite 1 para continuar ou 2 para terminar 2\n",
            "Lista de produtos:  {'ffff': 2323.0} total: 2323.0 Total a pagar com taxa: 3716.8\n"
          ]
        }
      ]
    },
    {
      "cell_type": "markdown",
      "source": [
        "# Identificação de Palavras Negativas em um Texto\n",
        "6) Você vai criar um programa em Python para analisar um texto e identificar palavras que expressam pensamentos negativos. Para isso, você usará uma lista de palavras negativas fornecida e verificará quais dessas palavras estão presentes no texto fornecido pelo usuário. Exemplo de palavras negtivas, acrescente mais na lista: # Lista de palavras negativas palavras_negativas = ['triste', 'deprimido', 'ansioso', 'desapontado', 'frustrado']"
      ],
      "metadata": {
        "id": "OH8D047zVsp-"
      }
    },
    {
      "cell_type": "code",
      "source": [
        "palavrasnegativas = ['triste', 'deprimido', 'ansioso', 'desapontado', 'frustrado']\n",
        "\n",
        "frase=input(\"Digite sua frase: \")\n",
        "\n",
        "for i in palavrasnegativas:\n",
        "  if i in frase:\n",
        "    print(\"Frase com termos negativos\")\n",
        "\n",
        "  if i not in frase:\n",
        "    print(\"Frase sem termos negativos\")"
      ],
      "metadata": {
        "id": "xDSrYWf_Vr8G",
        "colab": {
          "base_uri": "https://localhost:8080/"
        },
        "outputId": "74c971f9-54bb-4354-9c3d-d265fabb7e91"
      },
      "execution_count": 19,
      "outputs": [
        {
          "output_type": "stream",
          "name": "stdout",
          "text": [
            "Digite sua frase: felis\n",
            "Frase sem termos negativos\n",
            "Frase sem termos negativos\n",
            "Frase sem termos negativos\n",
            "Frase sem termos negativos\n",
            "Frase sem termos negativos\n"
          ]
        }
      ]
    }
  ]
}